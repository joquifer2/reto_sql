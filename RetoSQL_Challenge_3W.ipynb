{
  "nbformat": 4,
  "nbformat_minor": 0,
  "metadata": {
    "colab": {
      "provenance": [],
      "include_colab_link": true
    },
    "kernelspec": {
      "name": "python3",
      "display_name": "Python 3"
    },
    "language_info": {
      "name": "python"
    }
  },
  "cells": [
    {
      "cell_type": "markdown",
      "metadata": {
        "id": "view-in-github",
        "colab_type": "text"
      },
      "source": [
        "<a href=\"https://colab.research.google.com/github/joquifer2/reto_sql/blob/main/RetoSQL_Challenge_3W.ipynb\" target=\"_parent\"><img src=\"https://colab.research.google.com/assets/colab-badge.svg\" alt=\"Open In Colab\"/></a>"
      ]
    },
    {
      "cell_type": "markdown",
      "source": [
        "# **Semana 1**"
      ],
      "metadata": {
        "id": "8sS0hxvMJW0W"
      }
    },
    {
      "cell_type": "markdown",
      "source": [
        "## **Días 1, 2 y 3**\n",
        "\n",
        "Esta Masterclass os ayudará a comprender TODO sobre SQL:\n",
        "\n",
        "https://nodd3r.com/masters/masterclass/courses/sesiones-masterclass/theory/masterclass-sql"
      ],
      "metadata": {
        "id": "84Sh9y20JgFC"
      }
    },
    {
      "cell_type": "markdown",
      "source": [
        "## **Días 4,5,6 y 7**\n",
        "\n",
        "Ahora aplícalo en este proyecto:"
      ],
      "metadata": {
        "id": "BM_nXf4ZJwy8"
      }
    },
    {
      "cell_type": "markdown",
      "source": [
        "### **Proyecto: La cena de Iván**\n",
        "\n",
        "**Descripción:**\n",
        "\n",
        "Iván es un entusiasta de la cocina que disfruta experimentar con nuevas recetas.\n",
        "\n",
        "Recientemente ha organizado una cena para sus amigos y quiere impresionarlos con una selección de deliciosos platos.\n",
        "\n",
        "Iván ha preparado una lista de ingredientes necesarios para sus recetas y ha guardado esta información en una base de datos.\n",
        "\n",
        "Tu tarea es ayudar a Iván a gestionar sus ingredientes y recetas creando una base de datos y realizando algunas consultas para facilitar la preparación de su cena.\n",
        "\n",
        "**Datos:**\n",
        "\n",
        "La base de datos contiene dos tablas:\n",
        "- una tabla llamada `recetas`\n",
        "- otra tabla llamada `ingredientes`.\n",
        "\n",
        "Aquí está la **estructura de ambas tablas**:\n",
        "\n",
        "**Tabla recetas**:\n",
        "\n",
        "- receta_id (int, clave primaria): Identificador único de la receta.\n",
        "- nombre_receta (string): Nombre de la receta.\n",
        "- categoria (string): Categoría a la que pertenece la receta (por ejemplo, entrante, plato principal, postre).\n",
        "- tiempo_preparacion (int): Tiempo estimado de preparación en minutos.\n",
        "- dificultad (string): Nivel de dificultad de la receta (por ejemplo, fácil, intermedio, difícil).\n",
        "\n",
        "**Tabla ingredientes:**\n",
        "\n",
        "- ingrediente_id (int, clave primaria): Identificador único del ingrediente.\n",
        "- nombre_ingrediente (string): Nombre del ingrediente.\n",
        "- cantidad_disponible (int): Cantidad disponible del ingrediente en la despensa de Iván.\n",
        "- unidad_medida (string): Unidad de medida del ingrediente (por ejemplo, gramos, mililitros).\n",
        "\n",
        "**NOTA**: Deberás crear una tabla intermedia, llamada `recetas_ingredientes` que nos permita saber qué ingredientes tiene cada receta.\n",
        "Esta tabla tendrá los siguientes campos:\n",
        "- receta_id\n",
        "- ingrediente_id\n",
        "- cantidad\n",
        "\n",
        "\n",
        "Esta tabla, deberá relacionar: ingrediente, receta, cantidad.\n",
        "\n",
        "**Tareas:**\n",
        "\n",
        "1. Crea la estructura de la base de datos con las tablas recetas e ingredientes. Hazlo en un diagrama E-R.\n",
        "\n",
        "2. Inserta los siguientes registros en cada tabla para simular recetas y sus ingredientes.\n",
        "\n",
        "`Recetas`:\n",
        "- (1,'tortilla de patatas','entrante',55,'intermedio')\n",
        "- (2, 'hummus','entrante',15,'facil')\n",
        "- (3, 'crema de calabacin','plato principal',45,'facil')\n",
        "- (4, 'pisto','plato principal',240,'dificil')\n",
        "- (5, 'tarta de queso','postre',600,'facil')\n",
        "\n",
        "`Ingredientes`:\n",
        "- (1,'patatas',1,'kg'),\n",
        "- (2,'aceite de oliva',1,'l'),\n",
        "- (3,'garbanzos en tarro',100,'gr'),\n",
        "- (4,'calabacin',1,'kg'),\n",
        "- (5,'huevos',4,'unidades'),\n",
        "- (6,'tomates',3,'unidades'),\n",
        "- (7,'galletas',50,'gr'),\n",
        "- (8,'mascarpone',100,'gr')\n",
        "\n",
        "\n",
        "`Recetas_ingredientes`:\n",
        "- (1,1,1),\n",
        "- (1,5,8),\n",
        "- (1,2,1),\n",
        "- (2,2,1),\n",
        "- (2,3,400),\n",
        "- (3,4,1),\n",
        "- (4,4,1),\n",
        "- (4,6,5),\n",
        "- (5,7,150),\n",
        "- (5,8,200)\n",
        "\n",
        "\n",
        "\n",
        "3. Realiza consultas SQL para realizar las siguientes acciones:\n",
        "- Mostrar todas las recetas disponibles.\n",
        "- Mostrar todos los ingredientes necesarios para una receta específica.\n",
        "- Mostrar las recetas que se pueden preparar con los ingredientes disponibles en la despensa de Iván.\n",
        "- Mostrar las recetas que requieren una cantidad mínima de 2 litros de aceite de oliva.\n",
        "\n",
        "\n",
        "**Entrega:**\n",
        "\n",
        "Proporciona el script SQL que incluya la creación de las tablas, la inserción de datos y las consultas realizadas para cumplir con las tareas mencionadas.\n",
        "\n"
      ],
      "metadata": {
        "id": "28D2tkH3fkZU"
      }
    },
    {
      "cell_type": "code",
      "execution_count": null,
      "metadata": {
        "id": "z7gn6-orw9dd"
      },
      "outputs": [],
      "source": [
        "# Importamos las librerías necesarias\n",
        "# para poder hacer queries en Python\n",
        "import sqlite3\n",
        "\n",
        "# importamos la librería pandas para visualizar la salida\n",
        "import pandas as pd"
      ]
    },
    {
      "cell_type": "code",
      "source": [
        "# Nos conectamos a una db de sqlite3\n",
        "conn = sqlite3.connect('bbdd_ivan.db')\n",
        "print(\"Opened database successfully\");\n",
        "\n",
        " #Aquí podemos escribir la\n",
        "conn.execute('''-----''')\n",
        "\n",
        "conn.commit()\n",
        "\n",
        "print(\"Table created successfully\");"
      ],
      "metadata": {
        "colab": {
          "base_uri": "https://localhost:8080/"
        },
        "id": "W1V8bFaGckU4",
        "outputId": "9c21943d-f437-4fb8-d32f-ba88cffd5584"
      },
      "execution_count": null,
      "outputs": [
        {
          "output_type": "stream",
          "name": "stdout",
          "text": [
            "Opened database successfully\n",
            "Table created successfully\n"
          ]
        }
      ]
    },
    {
      "cell_type": "code",
      "source": [
        "# cada vez que queremos hacer una query se comienza con conn.execute\n",
        "conn.execute('''\n",
        "CREATE TABLE recetas(\n",
        "\treceta_id INT PRIMARY KEY NOT NULL,\n",
        "\tnombre_receta VARCHAR(255) NOT NULL,\n",
        "  categoría  VARCHAR(255) NOT NULL,\n",
        "  tiempo_preparacion INT NOT NULL,\n",
        "\tdificultad VARCHAR(255) NOT NULL\n",
        ");''')\n",
        "\n",
        "conn.commit()"
      ],
      "metadata": {
        "id": "mD68AXNxdUSq"
      },
      "execution_count": null,
      "outputs": []
    },
    {
      "cell_type": "code",
      "source": [
        "# cada vez que queremos hacer una query se comienza con conn.execute\n",
        "conn.execute('''\n",
        "CREATE TABLE ingredientes(\n",
        "\tingrediente_id INT PRIMARY KEY NOT NULL,\n",
        "\tnombre_ingrediente VARCHAR(255) NOT NULL,\n",
        "  cantidad_disponible INT NOT NULL,\n",
        "\tunidad_medida VARCHAR(255) NOT NULL\n",
        ");''')\n",
        "\n",
        "conn.commit()"
      ],
      "metadata": {
        "id": "4vmQdU4mgpfG"
      },
      "execution_count": null,
      "outputs": []
    },
    {
      "cell_type": "code",
      "source": [
        "# cada vez que queremos hacer una query se comienza con conn.execute\n",
        "conn.execute('''\n",
        "INSERT INTO recetas(receta_id, nombre_receta, categoría, tiempo_preparacion, dificultad)\n",
        "VALUES\n",
        "    (1, 'tortilla de patatas', 'entrante', 55, 'intermedio'),\n",
        "    (2, 'hummus', 'entrante', 15, 'facil'),\n",
        "    (3, 'crema de calabacin', 'plato principal', 45, 'facil'),\n",
        "    (4, 'pisto', 'plato principal', 240, 'dificil'),\n",
        "    (5, 'tarta de queso', 'postre', 600, 'facil');\n",
        "''')\n",
        "conn.commit()\n"
      ],
      "metadata": {
        "id": "4NkSw8qThE-H"
      },
      "execution_count": null,
      "outputs": []
    },
    {
      "cell_type": "code",
      "source": [
        "conn.execute('''\n",
        "INSERT INTO ingredientes(ingrediente_id, nombre_ingrediente, cantidad_disponible, unidad_medida)\n",
        "VALUES\n",
        "    (1, 'patatas', 1, 'kg'),\n",
        "    (2, 'aceite de oliva', 1, 'l'),\n",
        "    (3, 'garbanzos en tarro', 100, 'gr'),\n",
        "    (4, 'calabacin', 1, 'kg'),\n",
        "    (5, 'huevos', 4, 'unidades'),\n",
        "    (6, 'tomates', 3, 'unidades'),\n",
        "    (7, 'galletas', 50, 'gr'),\n",
        "    (8, 'mascarpone', 100, 'gr');\n",
        "''')\n",
        "conn.commit()\n"
      ],
      "metadata": {
        "id": "j_b-DVrDjBXD"
      },
      "execution_count": null,
      "outputs": []
    },
    {
      "cell_type": "code",
      "source": [
        "conn.execute('''\n",
        "CREATE TABLE recetas_ingredientes(\n",
        "\treceta_id INT NOT NULL,\n",
        "\tingrediente_id INT NOT NULL,\n",
        "  cantidad INT NOT NULL);\n",
        "  ''')\n",
        "\n",
        "conn.commit()"
      ],
      "metadata": {
        "id": "t8uhem8rkzTK"
      },
      "execution_count": null,
      "outputs": []
    },
    {
      "cell_type": "code",
      "source": [
        "conn.execute('''\n",
        "INSERT INTO recetas_ingredientes(receta_id, ingrediente_id, cantidad)\n",
        "VALUES\n",
        "    (1, 1, 1),\n",
        "    (1, 5, 8),\n",
        "    (1, 2, 1),\n",
        "    (2, 2, 1),\n",
        "    (2, 3, 400),\n",
        "    (3, 4, 1),\n",
        "    (4, 4, 1),\n",
        "    (4, 6, 5),\n",
        "    (5, 7, 150),\n",
        "    (5, 8, 200);\n",
        "''')\n",
        "\n",
        "conn.commit()"
      ],
      "metadata": {
        "id": "NKnNt6NUlcF6"
      },
      "execution_count": null,
      "outputs": []
    },
    {
      "cell_type": "code",
      "source": [
        "# Mostrar todas las recetas disponibles.\n",
        "# creamos la query y la guardamos en la variable qry\n",
        "qry = '''\n",
        "SELECT  *\n",
        "FROM recetas;\n",
        "'''\n",
        "\n",
        "# para visualizar la salida, usaremos pandas\n",
        "df =pd.read_sql_query(qry, conn)\n",
        "\n",
        "df.head()"
      ],
      "metadata": {
        "colab": {
          "base_uri": "https://localhost:8080/",
          "height": 206
        },
        "id": "q0dSYUKMm4BF",
        "outputId": "e9cb4f35-0ad1-4cc5-9217-40f407d1e43a"
      },
      "execution_count": null,
      "outputs": [
        {
          "output_type": "execute_result",
          "data": {
            "text/plain": [
              "   receta_id        nombre_receta        categoría  tiempo_preparacion  \\\n",
              "0          1  tortilla de patatas         entrante                  55   \n",
              "1          2               hummus         entrante                  15   \n",
              "2          3   crema de calabacin  plato principal                  45   \n",
              "3          4                pisto  plato principal                 240   \n",
              "4          5       tarta de queso           postre                 600   \n",
              "\n",
              "   dificultad  \n",
              "0  intermedio  \n",
              "1       facil  \n",
              "2       facil  \n",
              "3     dificil  \n",
              "4       facil  "
            ],
            "text/html": [
              "\n",
              "  <div id=\"df-6b5e8098-f93e-43a1-b3a6-7b5df8a4c5f3\" class=\"colab-df-container\">\n",
              "    <div>\n",
              "<style scoped>\n",
              "    .dataframe tbody tr th:only-of-type {\n",
              "        vertical-align: middle;\n",
              "    }\n",
              "\n",
              "    .dataframe tbody tr th {\n",
              "        vertical-align: top;\n",
              "    }\n",
              "\n",
              "    .dataframe thead th {\n",
              "        text-align: right;\n",
              "    }\n",
              "</style>\n",
              "<table border=\"1\" class=\"dataframe\">\n",
              "  <thead>\n",
              "    <tr style=\"text-align: right;\">\n",
              "      <th></th>\n",
              "      <th>receta_id</th>\n",
              "      <th>nombre_receta</th>\n",
              "      <th>categoría</th>\n",
              "      <th>tiempo_preparacion</th>\n",
              "      <th>dificultad</th>\n",
              "    </tr>\n",
              "  </thead>\n",
              "  <tbody>\n",
              "    <tr>\n",
              "      <th>0</th>\n",
              "      <td>1</td>\n",
              "      <td>tortilla de patatas</td>\n",
              "      <td>entrante</td>\n",
              "      <td>55</td>\n",
              "      <td>intermedio</td>\n",
              "    </tr>\n",
              "    <tr>\n",
              "      <th>1</th>\n",
              "      <td>2</td>\n",
              "      <td>hummus</td>\n",
              "      <td>entrante</td>\n",
              "      <td>15</td>\n",
              "      <td>facil</td>\n",
              "    </tr>\n",
              "    <tr>\n",
              "      <th>2</th>\n",
              "      <td>3</td>\n",
              "      <td>crema de calabacin</td>\n",
              "      <td>plato principal</td>\n",
              "      <td>45</td>\n",
              "      <td>facil</td>\n",
              "    </tr>\n",
              "    <tr>\n",
              "      <th>3</th>\n",
              "      <td>4</td>\n",
              "      <td>pisto</td>\n",
              "      <td>plato principal</td>\n",
              "      <td>240</td>\n",
              "      <td>dificil</td>\n",
              "    </tr>\n",
              "    <tr>\n",
              "      <th>4</th>\n",
              "      <td>5</td>\n",
              "      <td>tarta de queso</td>\n",
              "      <td>postre</td>\n",
              "      <td>600</td>\n",
              "      <td>facil</td>\n",
              "    </tr>\n",
              "  </tbody>\n",
              "</table>\n",
              "</div>\n",
              "    <div class=\"colab-df-buttons\">\n",
              "\n",
              "  <div class=\"colab-df-container\">\n",
              "    <button class=\"colab-df-convert\" onclick=\"convertToInteractive('df-6b5e8098-f93e-43a1-b3a6-7b5df8a4c5f3')\"\n",
              "            title=\"Convert this dataframe to an interactive table.\"\n",
              "            style=\"display:none;\">\n",
              "\n",
              "  <svg xmlns=\"http://www.w3.org/2000/svg\" height=\"24px\" viewBox=\"0 -960 960 960\">\n",
              "    <path d=\"M120-120v-720h720v720H120Zm60-500h600v-160H180v160Zm220 220h160v-160H400v160Zm0 220h160v-160H400v160ZM180-400h160v-160H180v160Zm440 0h160v-160H620v160ZM180-180h160v-160H180v160Zm440 0h160v-160H620v160Z\"/>\n",
              "  </svg>\n",
              "    </button>\n",
              "\n",
              "  <style>\n",
              "    .colab-df-container {\n",
              "      display:flex;\n",
              "      gap: 12px;\n",
              "    }\n",
              "\n",
              "    .colab-df-convert {\n",
              "      background-color: #E8F0FE;\n",
              "      border: none;\n",
              "      border-radius: 50%;\n",
              "      cursor: pointer;\n",
              "      display: none;\n",
              "      fill: #1967D2;\n",
              "      height: 32px;\n",
              "      padding: 0 0 0 0;\n",
              "      width: 32px;\n",
              "    }\n",
              "\n",
              "    .colab-df-convert:hover {\n",
              "      background-color: #E2EBFA;\n",
              "      box-shadow: 0px 1px 2px rgba(60, 64, 67, 0.3), 0px 1px 3px 1px rgba(60, 64, 67, 0.15);\n",
              "      fill: #174EA6;\n",
              "    }\n",
              "\n",
              "    .colab-df-buttons div {\n",
              "      margin-bottom: 4px;\n",
              "    }\n",
              "\n",
              "    [theme=dark] .colab-df-convert {\n",
              "      background-color: #3B4455;\n",
              "      fill: #D2E3FC;\n",
              "    }\n",
              "\n",
              "    [theme=dark] .colab-df-convert:hover {\n",
              "      background-color: #434B5C;\n",
              "      box-shadow: 0px 1px 3px 1px rgba(0, 0, 0, 0.15);\n",
              "      filter: drop-shadow(0px 1px 2px rgba(0, 0, 0, 0.3));\n",
              "      fill: #FFFFFF;\n",
              "    }\n",
              "  </style>\n",
              "\n",
              "    <script>\n",
              "      const buttonEl =\n",
              "        document.querySelector('#df-6b5e8098-f93e-43a1-b3a6-7b5df8a4c5f3 button.colab-df-convert');\n",
              "      buttonEl.style.display =\n",
              "        google.colab.kernel.accessAllowed ? 'block' : 'none';\n",
              "\n",
              "      async function convertToInteractive(key) {\n",
              "        const element = document.querySelector('#df-6b5e8098-f93e-43a1-b3a6-7b5df8a4c5f3');\n",
              "        const dataTable =\n",
              "          await google.colab.kernel.invokeFunction('convertToInteractive',\n",
              "                                                    [key], {});\n",
              "        if (!dataTable) return;\n",
              "\n",
              "        const docLinkHtml = 'Like what you see? Visit the ' +\n",
              "          '<a target=\"_blank\" href=https://colab.research.google.com/notebooks/data_table.ipynb>data table notebook</a>'\n",
              "          + ' to learn more about interactive tables.';\n",
              "        element.innerHTML = '';\n",
              "        dataTable['output_type'] = 'display_data';\n",
              "        await google.colab.output.renderOutput(dataTable, element);\n",
              "        const docLink = document.createElement('div');\n",
              "        docLink.innerHTML = docLinkHtml;\n",
              "        element.appendChild(docLink);\n",
              "      }\n",
              "    </script>\n",
              "  </div>\n",
              "\n",
              "\n",
              "<div id=\"df-d219fb0c-df74-4260-93fd-857465cb59bb\">\n",
              "  <button class=\"colab-df-quickchart\" onclick=\"quickchart('df-d219fb0c-df74-4260-93fd-857465cb59bb')\"\n",
              "            title=\"Suggest charts\"\n",
              "            style=\"display:none;\">\n",
              "\n",
              "<svg xmlns=\"http://www.w3.org/2000/svg\" height=\"24px\"viewBox=\"0 0 24 24\"\n",
              "     width=\"24px\">\n",
              "    <g>\n",
              "        <path d=\"M19 3H5c-1.1 0-2 .9-2 2v14c0 1.1.9 2 2 2h14c1.1 0 2-.9 2-2V5c0-1.1-.9-2-2-2zM9 17H7v-7h2v7zm4 0h-2V7h2v10zm4 0h-2v-4h2v4z\"/>\n",
              "    </g>\n",
              "</svg>\n",
              "  </button>\n",
              "\n",
              "<style>\n",
              "  .colab-df-quickchart {\n",
              "      --bg-color: #E8F0FE;\n",
              "      --fill-color: #1967D2;\n",
              "      --hover-bg-color: #E2EBFA;\n",
              "      --hover-fill-color: #174EA6;\n",
              "      --disabled-fill-color: #AAA;\n",
              "      --disabled-bg-color: #DDD;\n",
              "  }\n",
              "\n",
              "  [theme=dark] .colab-df-quickchart {\n",
              "      --bg-color: #3B4455;\n",
              "      --fill-color: #D2E3FC;\n",
              "      --hover-bg-color: #434B5C;\n",
              "      --hover-fill-color: #FFFFFF;\n",
              "      --disabled-bg-color: #3B4455;\n",
              "      --disabled-fill-color: #666;\n",
              "  }\n",
              "\n",
              "  .colab-df-quickchart {\n",
              "    background-color: var(--bg-color);\n",
              "    border: none;\n",
              "    border-radius: 50%;\n",
              "    cursor: pointer;\n",
              "    display: none;\n",
              "    fill: var(--fill-color);\n",
              "    height: 32px;\n",
              "    padding: 0;\n",
              "    width: 32px;\n",
              "  }\n",
              "\n",
              "  .colab-df-quickchart:hover {\n",
              "    background-color: var(--hover-bg-color);\n",
              "    box-shadow: 0 1px 2px rgba(60, 64, 67, 0.3), 0 1px 3px 1px rgba(60, 64, 67, 0.15);\n",
              "    fill: var(--button-hover-fill-color);\n",
              "  }\n",
              "\n",
              "  .colab-df-quickchart-complete:disabled,\n",
              "  .colab-df-quickchart-complete:disabled:hover {\n",
              "    background-color: var(--disabled-bg-color);\n",
              "    fill: var(--disabled-fill-color);\n",
              "    box-shadow: none;\n",
              "  }\n",
              "\n",
              "  .colab-df-spinner {\n",
              "    border: 2px solid var(--fill-color);\n",
              "    border-color: transparent;\n",
              "    border-bottom-color: var(--fill-color);\n",
              "    animation:\n",
              "      spin 1s steps(1) infinite;\n",
              "  }\n",
              "\n",
              "  @keyframes spin {\n",
              "    0% {\n",
              "      border-color: transparent;\n",
              "      border-bottom-color: var(--fill-color);\n",
              "      border-left-color: var(--fill-color);\n",
              "    }\n",
              "    20% {\n",
              "      border-color: transparent;\n",
              "      border-left-color: var(--fill-color);\n",
              "      border-top-color: var(--fill-color);\n",
              "    }\n",
              "    30% {\n",
              "      border-color: transparent;\n",
              "      border-left-color: var(--fill-color);\n",
              "      border-top-color: var(--fill-color);\n",
              "      border-right-color: var(--fill-color);\n",
              "    }\n",
              "    40% {\n",
              "      border-color: transparent;\n",
              "      border-right-color: var(--fill-color);\n",
              "      border-top-color: var(--fill-color);\n",
              "    }\n",
              "    60% {\n",
              "      border-color: transparent;\n",
              "      border-right-color: var(--fill-color);\n",
              "    }\n",
              "    80% {\n",
              "      border-color: transparent;\n",
              "      border-right-color: var(--fill-color);\n",
              "      border-bottom-color: var(--fill-color);\n",
              "    }\n",
              "    90% {\n",
              "      border-color: transparent;\n",
              "      border-bottom-color: var(--fill-color);\n",
              "    }\n",
              "  }\n",
              "</style>\n",
              "\n",
              "  <script>\n",
              "    async function quickchart(key) {\n",
              "      const quickchartButtonEl =\n",
              "        document.querySelector('#' + key + ' button');\n",
              "      quickchartButtonEl.disabled = true;  // To prevent multiple clicks.\n",
              "      quickchartButtonEl.classList.add('colab-df-spinner');\n",
              "      try {\n",
              "        const charts = await google.colab.kernel.invokeFunction(\n",
              "            'suggestCharts', [key], {});\n",
              "      } catch (error) {\n",
              "        console.error('Error during call to suggestCharts:', error);\n",
              "      }\n",
              "      quickchartButtonEl.classList.remove('colab-df-spinner');\n",
              "      quickchartButtonEl.classList.add('colab-df-quickchart-complete');\n",
              "    }\n",
              "    (() => {\n",
              "      let quickchartButtonEl =\n",
              "        document.querySelector('#df-d219fb0c-df74-4260-93fd-857465cb59bb button');\n",
              "      quickchartButtonEl.style.display =\n",
              "        google.colab.kernel.accessAllowed ? 'block' : 'none';\n",
              "    })();\n",
              "  </script>\n",
              "</div>\n",
              "    </div>\n",
              "  </div>\n"
            ],
            "application/vnd.google.colaboratory.intrinsic+json": {
              "type": "dataframe",
              "variable_name": "df",
              "summary": "{\n  \"name\": \"df\",\n  \"rows\": 5,\n  \"fields\": [\n    {\n      \"column\": \"receta_id\",\n      \"properties\": {\n        \"dtype\": \"number\",\n        \"std\": 1,\n        \"min\": 1,\n        \"max\": 5,\n        \"num_unique_values\": 5,\n        \"samples\": [\n          2,\n          5,\n          3\n        ],\n        \"semantic_type\": \"\",\n        \"description\": \"\"\n      }\n    },\n    {\n      \"column\": \"nombre_receta\",\n      \"properties\": {\n        \"dtype\": \"string\",\n        \"num_unique_values\": 5,\n        \"samples\": [\n          \"hummus\",\n          \"tarta de queso\",\n          \"crema de calabacin\"\n        ],\n        \"semantic_type\": \"\",\n        \"description\": \"\"\n      }\n    },\n    {\n      \"column\": \"categor\\u00eda\",\n      \"properties\": {\n        \"dtype\": \"string\",\n        \"num_unique_values\": 3,\n        \"samples\": [\n          \"entrante\",\n          \"plato principal\",\n          \"postre\"\n        ],\n        \"semantic_type\": \"\",\n        \"description\": \"\"\n      }\n    },\n    {\n      \"column\": \"tiempo_preparacion\",\n      \"properties\": {\n        \"dtype\": \"number\",\n        \"std\": 245,\n        \"min\": 15,\n        \"max\": 600,\n        \"num_unique_values\": 5,\n        \"samples\": [\n          15,\n          600,\n          45\n        ],\n        \"semantic_type\": \"\",\n        \"description\": \"\"\n      }\n    },\n    {\n      \"column\": \"dificultad\",\n      \"properties\": {\n        \"dtype\": \"string\",\n        \"num_unique_values\": 3,\n        \"samples\": [\n          \"intermedio\",\n          \"facil\",\n          \"dificil\"\n        ],\n        \"semantic_type\": \"\",\n        \"description\": \"\"\n      }\n    }\n  ]\n}"
            }
          },
          "metadata": {},
          "execution_count": 12
        }
      ]
    },
    {
      "cell_type": "code",
      "source": [
        "# Mostrar todos los ingredientes necesarios para una receta específica.\n",
        "\n",
        "qry = '''\n",
        "SELECT\n",
        "    recetas_ingredientes.receta_id,\n",
        "    ingredientes.nombre_ingrediente\n",
        "FROM\n",
        "    recetas_ingredientes\n",
        "INNER JOIN\n",
        "    ingredientes\n",
        "ON\n",
        "    recetas_ingredientes.ingrediente_id = ingredientes.ingrediente_id;\n",
        "'''\n",
        "\n",
        "# Para visualizar la salida, usaremos pandas\n",
        "df = pd.read_sql_query(qry, conn)\n",
        "\n",
        "df.head()\n",
        "\n",
        "\n"
      ],
      "metadata": {
        "colab": {
          "base_uri": "https://localhost:8080/",
          "height": 206
        },
        "id": "JFunJ6V2nbWk",
        "outputId": "d7325915-4c73-44ea-f515-27fb4dce1c0e"
      },
      "execution_count": null,
      "outputs": [
        {
          "output_type": "execute_result",
          "data": {
            "text/plain": [
              "   receta_id  nombre_ingrediente\n",
              "0          1             patatas\n",
              "1          1              huevos\n",
              "2          1     aceite de oliva\n",
              "3          2     aceite de oliva\n",
              "4          2  garbanzos en tarro"
            ],
            "text/html": [
              "\n",
              "  <div id=\"df-9d69f4f0-8be9-43f4-a91a-1782be3ad093\" class=\"colab-df-container\">\n",
              "    <div>\n",
              "<style scoped>\n",
              "    .dataframe tbody tr th:only-of-type {\n",
              "        vertical-align: middle;\n",
              "    }\n",
              "\n",
              "    .dataframe tbody tr th {\n",
              "        vertical-align: top;\n",
              "    }\n",
              "\n",
              "    .dataframe thead th {\n",
              "        text-align: right;\n",
              "    }\n",
              "</style>\n",
              "<table border=\"1\" class=\"dataframe\">\n",
              "  <thead>\n",
              "    <tr style=\"text-align: right;\">\n",
              "      <th></th>\n",
              "      <th>receta_id</th>\n",
              "      <th>nombre_ingrediente</th>\n",
              "    </tr>\n",
              "  </thead>\n",
              "  <tbody>\n",
              "    <tr>\n",
              "      <th>0</th>\n",
              "      <td>1</td>\n",
              "      <td>patatas</td>\n",
              "    </tr>\n",
              "    <tr>\n",
              "      <th>1</th>\n",
              "      <td>1</td>\n",
              "      <td>huevos</td>\n",
              "    </tr>\n",
              "    <tr>\n",
              "      <th>2</th>\n",
              "      <td>1</td>\n",
              "      <td>aceite de oliva</td>\n",
              "    </tr>\n",
              "    <tr>\n",
              "      <th>3</th>\n",
              "      <td>2</td>\n",
              "      <td>aceite de oliva</td>\n",
              "    </tr>\n",
              "    <tr>\n",
              "      <th>4</th>\n",
              "      <td>2</td>\n",
              "      <td>garbanzos en tarro</td>\n",
              "    </tr>\n",
              "  </tbody>\n",
              "</table>\n",
              "</div>\n",
              "    <div class=\"colab-df-buttons\">\n",
              "\n",
              "  <div class=\"colab-df-container\">\n",
              "    <button class=\"colab-df-convert\" onclick=\"convertToInteractive('df-9d69f4f0-8be9-43f4-a91a-1782be3ad093')\"\n",
              "            title=\"Convert this dataframe to an interactive table.\"\n",
              "            style=\"display:none;\">\n",
              "\n",
              "  <svg xmlns=\"http://www.w3.org/2000/svg\" height=\"24px\" viewBox=\"0 -960 960 960\">\n",
              "    <path d=\"M120-120v-720h720v720H120Zm60-500h600v-160H180v160Zm220 220h160v-160H400v160Zm0 220h160v-160H400v160ZM180-400h160v-160H180v160Zm440 0h160v-160H620v160ZM180-180h160v-160H180v160Zm440 0h160v-160H620v160Z\"/>\n",
              "  </svg>\n",
              "    </button>\n",
              "\n",
              "  <style>\n",
              "    .colab-df-container {\n",
              "      display:flex;\n",
              "      gap: 12px;\n",
              "    }\n",
              "\n",
              "    .colab-df-convert {\n",
              "      background-color: #E8F0FE;\n",
              "      border: none;\n",
              "      border-radius: 50%;\n",
              "      cursor: pointer;\n",
              "      display: none;\n",
              "      fill: #1967D2;\n",
              "      height: 32px;\n",
              "      padding: 0 0 0 0;\n",
              "      width: 32px;\n",
              "    }\n",
              "\n",
              "    .colab-df-convert:hover {\n",
              "      background-color: #E2EBFA;\n",
              "      box-shadow: 0px 1px 2px rgba(60, 64, 67, 0.3), 0px 1px 3px 1px rgba(60, 64, 67, 0.15);\n",
              "      fill: #174EA6;\n",
              "    }\n",
              "\n",
              "    .colab-df-buttons div {\n",
              "      margin-bottom: 4px;\n",
              "    }\n",
              "\n",
              "    [theme=dark] .colab-df-convert {\n",
              "      background-color: #3B4455;\n",
              "      fill: #D2E3FC;\n",
              "    }\n",
              "\n",
              "    [theme=dark] .colab-df-convert:hover {\n",
              "      background-color: #434B5C;\n",
              "      box-shadow: 0px 1px 3px 1px rgba(0, 0, 0, 0.15);\n",
              "      filter: drop-shadow(0px 1px 2px rgba(0, 0, 0, 0.3));\n",
              "      fill: #FFFFFF;\n",
              "    }\n",
              "  </style>\n",
              "\n",
              "    <script>\n",
              "      const buttonEl =\n",
              "        document.querySelector('#df-9d69f4f0-8be9-43f4-a91a-1782be3ad093 button.colab-df-convert');\n",
              "      buttonEl.style.display =\n",
              "        google.colab.kernel.accessAllowed ? 'block' : 'none';\n",
              "\n",
              "      async function convertToInteractive(key) {\n",
              "        const element = document.querySelector('#df-9d69f4f0-8be9-43f4-a91a-1782be3ad093');\n",
              "        const dataTable =\n",
              "          await google.colab.kernel.invokeFunction('convertToInteractive',\n",
              "                                                    [key], {});\n",
              "        if (!dataTable) return;\n",
              "\n",
              "        const docLinkHtml = 'Like what you see? Visit the ' +\n",
              "          '<a target=\"_blank\" href=https://colab.research.google.com/notebooks/data_table.ipynb>data table notebook</a>'\n",
              "          + ' to learn more about interactive tables.';\n",
              "        element.innerHTML = '';\n",
              "        dataTable['output_type'] = 'display_data';\n",
              "        await google.colab.output.renderOutput(dataTable, element);\n",
              "        const docLink = document.createElement('div');\n",
              "        docLink.innerHTML = docLinkHtml;\n",
              "        element.appendChild(docLink);\n",
              "      }\n",
              "    </script>\n",
              "  </div>\n",
              "\n",
              "\n",
              "<div id=\"df-a330d255-2525-491a-abce-6ee0a1d7006e\">\n",
              "  <button class=\"colab-df-quickchart\" onclick=\"quickchart('df-a330d255-2525-491a-abce-6ee0a1d7006e')\"\n",
              "            title=\"Suggest charts\"\n",
              "            style=\"display:none;\">\n",
              "\n",
              "<svg xmlns=\"http://www.w3.org/2000/svg\" height=\"24px\"viewBox=\"0 0 24 24\"\n",
              "     width=\"24px\">\n",
              "    <g>\n",
              "        <path d=\"M19 3H5c-1.1 0-2 .9-2 2v14c0 1.1.9 2 2 2h14c1.1 0 2-.9 2-2V5c0-1.1-.9-2-2-2zM9 17H7v-7h2v7zm4 0h-2V7h2v10zm4 0h-2v-4h2v4z\"/>\n",
              "    </g>\n",
              "</svg>\n",
              "  </button>\n",
              "\n",
              "<style>\n",
              "  .colab-df-quickchart {\n",
              "      --bg-color: #E8F0FE;\n",
              "      --fill-color: #1967D2;\n",
              "      --hover-bg-color: #E2EBFA;\n",
              "      --hover-fill-color: #174EA6;\n",
              "      --disabled-fill-color: #AAA;\n",
              "      --disabled-bg-color: #DDD;\n",
              "  }\n",
              "\n",
              "  [theme=dark] .colab-df-quickchart {\n",
              "      --bg-color: #3B4455;\n",
              "      --fill-color: #D2E3FC;\n",
              "      --hover-bg-color: #434B5C;\n",
              "      --hover-fill-color: #FFFFFF;\n",
              "      --disabled-bg-color: #3B4455;\n",
              "      --disabled-fill-color: #666;\n",
              "  }\n",
              "\n",
              "  .colab-df-quickchart {\n",
              "    background-color: var(--bg-color);\n",
              "    border: none;\n",
              "    border-radius: 50%;\n",
              "    cursor: pointer;\n",
              "    display: none;\n",
              "    fill: var(--fill-color);\n",
              "    height: 32px;\n",
              "    padding: 0;\n",
              "    width: 32px;\n",
              "  }\n",
              "\n",
              "  .colab-df-quickchart:hover {\n",
              "    background-color: var(--hover-bg-color);\n",
              "    box-shadow: 0 1px 2px rgba(60, 64, 67, 0.3), 0 1px 3px 1px rgba(60, 64, 67, 0.15);\n",
              "    fill: var(--button-hover-fill-color);\n",
              "  }\n",
              "\n",
              "  .colab-df-quickchart-complete:disabled,\n",
              "  .colab-df-quickchart-complete:disabled:hover {\n",
              "    background-color: var(--disabled-bg-color);\n",
              "    fill: var(--disabled-fill-color);\n",
              "    box-shadow: none;\n",
              "  }\n",
              "\n",
              "  .colab-df-spinner {\n",
              "    border: 2px solid var(--fill-color);\n",
              "    border-color: transparent;\n",
              "    border-bottom-color: var(--fill-color);\n",
              "    animation:\n",
              "      spin 1s steps(1) infinite;\n",
              "  }\n",
              "\n",
              "  @keyframes spin {\n",
              "    0% {\n",
              "      border-color: transparent;\n",
              "      border-bottom-color: var(--fill-color);\n",
              "      border-left-color: var(--fill-color);\n",
              "    }\n",
              "    20% {\n",
              "      border-color: transparent;\n",
              "      border-left-color: var(--fill-color);\n",
              "      border-top-color: var(--fill-color);\n",
              "    }\n",
              "    30% {\n",
              "      border-color: transparent;\n",
              "      border-left-color: var(--fill-color);\n",
              "      border-top-color: var(--fill-color);\n",
              "      border-right-color: var(--fill-color);\n",
              "    }\n",
              "    40% {\n",
              "      border-color: transparent;\n",
              "      border-right-color: var(--fill-color);\n",
              "      border-top-color: var(--fill-color);\n",
              "    }\n",
              "    60% {\n",
              "      border-color: transparent;\n",
              "      border-right-color: var(--fill-color);\n",
              "    }\n",
              "    80% {\n",
              "      border-color: transparent;\n",
              "      border-right-color: var(--fill-color);\n",
              "      border-bottom-color: var(--fill-color);\n",
              "    }\n",
              "    90% {\n",
              "      border-color: transparent;\n",
              "      border-bottom-color: var(--fill-color);\n",
              "    }\n",
              "  }\n",
              "</style>\n",
              "\n",
              "  <script>\n",
              "    async function quickchart(key) {\n",
              "      const quickchartButtonEl =\n",
              "        document.querySelector('#' + key + ' button');\n",
              "      quickchartButtonEl.disabled = true;  // To prevent multiple clicks.\n",
              "      quickchartButtonEl.classList.add('colab-df-spinner');\n",
              "      try {\n",
              "        const charts = await google.colab.kernel.invokeFunction(\n",
              "            'suggestCharts', [key], {});\n",
              "      } catch (error) {\n",
              "        console.error('Error during call to suggestCharts:', error);\n",
              "      }\n",
              "      quickchartButtonEl.classList.remove('colab-df-spinner');\n",
              "      quickchartButtonEl.classList.add('colab-df-quickchart-complete');\n",
              "    }\n",
              "    (() => {\n",
              "      let quickchartButtonEl =\n",
              "        document.querySelector('#df-a330d255-2525-491a-abce-6ee0a1d7006e button');\n",
              "      quickchartButtonEl.style.display =\n",
              "        google.colab.kernel.accessAllowed ? 'block' : 'none';\n",
              "    })();\n",
              "  </script>\n",
              "</div>\n",
              "    </div>\n",
              "  </div>\n"
            ],
            "application/vnd.google.colaboratory.intrinsic+json": {
              "type": "dataframe",
              "variable_name": "df",
              "summary": "{\n  \"name\": \"df\",\n  \"rows\": 10,\n  \"fields\": [\n    {\n      \"column\": \"receta_id\",\n      \"properties\": {\n        \"dtype\": \"number\",\n        \"std\": 1,\n        \"min\": 1,\n        \"max\": 5,\n        \"num_unique_values\": 5,\n        \"samples\": [\n          2,\n          5,\n          3\n        ],\n        \"semantic_type\": \"\",\n        \"description\": \"\"\n      }\n    },\n    {\n      \"column\": \"nombre_ingrediente\",\n      \"properties\": {\n        \"dtype\": \"string\",\n        \"num_unique_values\": 8,\n        \"samples\": [\n          \"huevos\",\n          \"tomates\",\n          \"patatas\"\n        ],\n        \"semantic_type\": \"\",\n        \"description\": \"\"\n      }\n    }\n  ]\n}"
            }
          },
          "metadata": {},
          "execution_count": 13
        }
      ]
    },
    {
      "cell_type": "code",
      "source": [
        "# Mostrar las recetas que se pueden preparar con los ingredientes disponibles en la despensa de Iván.\n",
        "\n",
        "qry = '''\n",
        "\n",
        "SELECT\n",
        "    r.receta_id,\n",
        "    r.nombre_receta\n",
        "FROM\n",
        "    recetas r\n",
        "INNER JOIN\n",
        "    recetas_ingredientes ri ON r.receta_id = ri.receta_id\n",
        "INNER JOIN\n",
        "    ingredientes i ON ri.ingrediente_id = i.ingrediente_id\n",
        "GROUP BY\n",
        "    r.receta_id, r.nombre_receta\n",
        "HAVING MIN(i.cantidad_disponible / ri.cantidad) >= 1;\n",
        "\n",
        "\n",
        "'''\n",
        "\n",
        "# Para visualizar la salida, usaremos pandas\n",
        "df = pd.read_sql_query(qry, conn)\n",
        "\n",
        "df.head()"
      ],
      "metadata": {
        "colab": {
          "base_uri": "https://localhost:8080/",
          "height": 81
        },
        "id": "_f3hX3b-Yfk9",
        "outputId": "c7e356a8-e8b8-4832-b498-8af172c61870"
      },
      "execution_count": null,
      "outputs": [
        {
          "output_type": "execute_result",
          "data": {
            "text/plain": [
              "   receta_id       nombre_receta\n",
              "0          3  crema de calabacin"
            ],
            "text/html": [
              "\n",
              "  <div id=\"df-43cd441b-b9e4-4c57-90e9-a37d152e5211\" class=\"colab-df-container\">\n",
              "    <div>\n",
              "<style scoped>\n",
              "    .dataframe tbody tr th:only-of-type {\n",
              "        vertical-align: middle;\n",
              "    }\n",
              "\n",
              "    .dataframe tbody tr th {\n",
              "        vertical-align: top;\n",
              "    }\n",
              "\n",
              "    .dataframe thead th {\n",
              "        text-align: right;\n",
              "    }\n",
              "</style>\n",
              "<table border=\"1\" class=\"dataframe\">\n",
              "  <thead>\n",
              "    <tr style=\"text-align: right;\">\n",
              "      <th></th>\n",
              "      <th>receta_id</th>\n",
              "      <th>nombre_receta</th>\n",
              "    </tr>\n",
              "  </thead>\n",
              "  <tbody>\n",
              "    <tr>\n",
              "      <th>0</th>\n",
              "      <td>3</td>\n",
              "      <td>crema de calabacin</td>\n",
              "    </tr>\n",
              "  </tbody>\n",
              "</table>\n",
              "</div>\n",
              "    <div class=\"colab-df-buttons\">\n",
              "\n",
              "  <div class=\"colab-df-container\">\n",
              "    <button class=\"colab-df-convert\" onclick=\"convertToInteractive('df-43cd441b-b9e4-4c57-90e9-a37d152e5211')\"\n",
              "            title=\"Convert this dataframe to an interactive table.\"\n",
              "            style=\"display:none;\">\n",
              "\n",
              "  <svg xmlns=\"http://www.w3.org/2000/svg\" height=\"24px\" viewBox=\"0 -960 960 960\">\n",
              "    <path d=\"M120-120v-720h720v720H120Zm60-500h600v-160H180v160Zm220 220h160v-160H400v160Zm0 220h160v-160H400v160ZM180-400h160v-160H180v160Zm440 0h160v-160H620v160ZM180-180h160v-160H180v160Zm440 0h160v-160H620v160Z\"/>\n",
              "  </svg>\n",
              "    </button>\n",
              "\n",
              "  <style>\n",
              "    .colab-df-container {\n",
              "      display:flex;\n",
              "      gap: 12px;\n",
              "    }\n",
              "\n",
              "    .colab-df-convert {\n",
              "      background-color: #E8F0FE;\n",
              "      border: none;\n",
              "      border-radius: 50%;\n",
              "      cursor: pointer;\n",
              "      display: none;\n",
              "      fill: #1967D2;\n",
              "      height: 32px;\n",
              "      padding: 0 0 0 0;\n",
              "      width: 32px;\n",
              "    }\n",
              "\n",
              "    .colab-df-convert:hover {\n",
              "      background-color: #E2EBFA;\n",
              "      box-shadow: 0px 1px 2px rgba(60, 64, 67, 0.3), 0px 1px 3px 1px rgba(60, 64, 67, 0.15);\n",
              "      fill: #174EA6;\n",
              "    }\n",
              "\n",
              "    .colab-df-buttons div {\n",
              "      margin-bottom: 4px;\n",
              "    }\n",
              "\n",
              "    [theme=dark] .colab-df-convert {\n",
              "      background-color: #3B4455;\n",
              "      fill: #D2E3FC;\n",
              "    }\n",
              "\n",
              "    [theme=dark] .colab-df-convert:hover {\n",
              "      background-color: #434B5C;\n",
              "      box-shadow: 0px 1px 3px 1px rgba(0, 0, 0, 0.15);\n",
              "      filter: drop-shadow(0px 1px 2px rgba(0, 0, 0, 0.3));\n",
              "      fill: #FFFFFF;\n",
              "    }\n",
              "  </style>\n",
              "\n",
              "    <script>\n",
              "      const buttonEl =\n",
              "        document.querySelector('#df-43cd441b-b9e4-4c57-90e9-a37d152e5211 button.colab-df-convert');\n",
              "      buttonEl.style.display =\n",
              "        google.colab.kernel.accessAllowed ? 'block' : 'none';\n",
              "\n",
              "      async function convertToInteractive(key) {\n",
              "        const element = document.querySelector('#df-43cd441b-b9e4-4c57-90e9-a37d152e5211');\n",
              "        const dataTable =\n",
              "          await google.colab.kernel.invokeFunction('convertToInteractive',\n",
              "                                                    [key], {});\n",
              "        if (!dataTable) return;\n",
              "\n",
              "        const docLinkHtml = 'Like what you see? Visit the ' +\n",
              "          '<a target=\"_blank\" href=https://colab.research.google.com/notebooks/data_table.ipynb>data table notebook</a>'\n",
              "          + ' to learn more about interactive tables.';\n",
              "        element.innerHTML = '';\n",
              "        dataTable['output_type'] = 'display_data';\n",
              "        await google.colab.output.renderOutput(dataTable, element);\n",
              "        const docLink = document.createElement('div');\n",
              "        docLink.innerHTML = docLinkHtml;\n",
              "        element.appendChild(docLink);\n",
              "      }\n",
              "    </script>\n",
              "  </div>\n",
              "\n",
              "    </div>\n",
              "  </div>\n"
            ],
            "application/vnd.google.colaboratory.intrinsic+json": {
              "type": "dataframe",
              "variable_name": "df",
              "summary": "{\n  \"name\": \"df\",\n  \"rows\": 1,\n  \"fields\": [\n    {\n      \"column\": \"receta_id\",\n      \"properties\": {\n        \"dtype\": \"number\",\n        \"std\": null,\n        \"min\": 3,\n        \"max\": 3,\n        \"num_unique_values\": 1,\n        \"samples\": [\n          3\n        ],\n        \"semantic_type\": \"\",\n        \"description\": \"\"\n      }\n    },\n    {\n      \"column\": \"nombre_receta\",\n      \"properties\": {\n        \"dtype\": \"string\",\n        \"num_unique_values\": 1,\n        \"samples\": [\n          \"crema de calabacin\"\n        ],\n        \"semantic_type\": \"\",\n        \"description\": \"\"\n      }\n    }\n  ]\n}"
            }
          },
          "metadata": {},
          "execution_count": 56
        }
      ]
    },
    {
      "cell_type": "code",
      "source": [
        "# Mostrar las recetas que requieren una cantidad mínima de 2 litros de aceite de oliva\n",
        "\n",
        "qry = '''\n",
        "\n",
        "SELECT\n",
        "    r.receta_id,\n",
        "    r.nombre_receta\n",
        "FROM\n",
        "    recetas r\n",
        "INNER JOIN\n",
        "    recetas_ingredientes ri ON r.receta_id = ri.receta_id\n",
        "INNER JOIN\n",
        "    ingredientes i ON ri.ingrediente_id = i.ingrediente_id\n",
        "WHERE i.nombre_ingrediente LIKE \"%aceite%\" AND ri.cantidad >= 2\n",
        "GROUP BY\n",
        "    r.receta_id, r.nombre_receta\n",
        "\n",
        "'''\n",
        "\n",
        "# Para visualizar la salida, usaremos pandas\n",
        "df = pd.read_sql_query(qry, conn)\n",
        "\n",
        "df.head()"
      ],
      "metadata": {
        "colab": {
          "base_uri": "https://localhost:8080/",
          "height": 53
        },
        "id": "WaEciwjBlbfM",
        "outputId": "a7e710c2-0f26-49fd-f88c-e4fbe03020c7"
      },
      "execution_count": null,
      "outputs": [
        {
          "output_type": "execute_result",
          "data": {
            "text/plain": [
              "Empty DataFrame\n",
              "Columns: [receta_id, nombre_receta]\n",
              "Index: []"
            ],
            "text/html": [
              "\n",
              "  <div id=\"df-1cfd8f52-4447-46be-a0f3-45a745fba615\" class=\"colab-df-container\">\n",
              "    <div>\n",
              "<style scoped>\n",
              "    .dataframe tbody tr th:only-of-type {\n",
              "        vertical-align: middle;\n",
              "    }\n",
              "\n",
              "    .dataframe tbody tr th {\n",
              "        vertical-align: top;\n",
              "    }\n",
              "\n",
              "    .dataframe thead th {\n",
              "        text-align: right;\n",
              "    }\n",
              "</style>\n",
              "<table border=\"1\" class=\"dataframe\">\n",
              "  <thead>\n",
              "    <tr style=\"text-align: right;\">\n",
              "      <th></th>\n",
              "      <th>receta_id</th>\n",
              "      <th>nombre_receta</th>\n",
              "    </tr>\n",
              "  </thead>\n",
              "  <tbody>\n",
              "  </tbody>\n",
              "</table>\n",
              "</div>\n",
              "    <div class=\"colab-df-buttons\">\n",
              "\n",
              "  <div class=\"colab-df-container\">\n",
              "    <button class=\"colab-df-convert\" onclick=\"convertToInteractive('df-1cfd8f52-4447-46be-a0f3-45a745fba615')\"\n",
              "            title=\"Convert this dataframe to an interactive table.\"\n",
              "            style=\"display:none;\">\n",
              "\n",
              "  <svg xmlns=\"http://www.w3.org/2000/svg\" height=\"24px\" viewBox=\"0 -960 960 960\">\n",
              "    <path d=\"M120-120v-720h720v720H120Zm60-500h600v-160H180v160Zm220 220h160v-160H400v160Zm0 220h160v-160H400v160ZM180-400h160v-160H180v160Zm440 0h160v-160H620v160ZM180-180h160v-160H180v160Zm440 0h160v-160H620v160Z\"/>\n",
              "  </svg>\n",
              "    </button>\n",
              "\n",
              "  <style>\n",
              "    .colab-df-container {\n",
              "      display:flex;\n",
              "      gap: 12px;\n",
              "    }\n",
              "\n",
              "    .colab-df-convert {\n",
              "      background-color: #E8F0FE;\n",
              "      border: none;\n",
              "      border-radius: 50%;\n",
              "      cursor: pointer;\n",
              "      display: none;\n",
              "      fill: #1967D2;\n",
              "      height: 32px;\n",
              "      padding: 0 0 0 0;\n",
              "      width: 32px;\n",
              "    }\n",
              "\n",
              "    .colab-df-convert:hover {\n",
              "      background-color: #E2EBFA;\n",
              "      box-shadow: 0px 1px 2px rgba(60, 64, 67, 0.3), 0px 1px 3px 1px rgba(60, 64, 67, 0.15);\n",
              "      fill: #174EA6;\n",
              "    }\n",
              "\n",
              "    .colab-df-buttons div {\n",
              "      margin-bottom: 4px;\n",
              "    }\n",
              "\n",
              "    [theme=dark] .colab-df-convert {\n",
              "      background-color: #3B4455;\n",
              "      fill: #D2E3FC;\n",
              "    }\n",
              "\n",
              "    [theme=dark] .colab-df-convert:hover {\n",
              "      background-color: #434B5C;\n",
              "      box-shadow: 0px 1px 3px 1px rgba(0, 0, 0, 0.15);\n",
              "      filter: drop-shadow(0px 1px 2px rgba(0, 0, 0, 0.3));\n",
              "      fill: #FFFFFF;\n",
              "    }\n",
              "  </style>\n",
              "\n",
              "    <script>\n",
              "      const buttonEl =\n",
              "        document.querySelector('#df-1cfd8f52-4447-46be-a0f3-45a745fba615 button.colab-df-convert');\n",
              "      buttonEl.style.display =\n",
              "        google.colab.kernel.accessAllowed ? 'block' : 'none';\n",
              "\n",
              "      async function convertToInteractive(key) {\n",
              "        const element = document.querySelector('#df-1cfd8f52-4447-46be-a0f3-45a745fba615');\n",
              "        const dataTable =\n",
              "          await google.colab.kernel.invokeFunction('convertToInteractive',\n",
              "                                                    [key], {});\n",
              "        if (!dataTable) return;\n",
              "\n",
              "        const docLinkHtml = 'Like what you see? Visit the ' +\n",
              "          '<a target=\"_blank\" href=https://colab.research.google.com/notebooks/data_table.ipynb>data table notebook</a>'\n",
              "          + ' to learn more about interactive tables.';\n",
              "        element.innerHTML = '';\n",
              "        dataTable['output_type'] = 'display_data';\n",
              "        await google.colab.output.renderOutput(dataTable, element);\n",
              "        const docLink = document.createElement('div');\n",
              "        docLink.innerHTML = docLinkHtml;\n",
              "        element.appendChild(docLink);\n",
              "      }\n",
              "    </script>\n",
              "  </div>\n",
              "\n",
              "    </div>\n",
              "  </div>\n"
            ],
            "application/vnd.google.colaboratory.intrinsic+json": {
              "type": "dataframe",
              "variable_name": "df",
              "repr_error": "Out of range float values are not JSON compliant: nan"
            }
          },
          "metadata": {},
          "execution_count": 61
        }
      ]
    },
    {
      "cell_type": "markdown",
      "source": [
        "# **Semana 2**"
      ],
      "metadata": {
        "id": "ee-YpEGzKBYB"
      }
    },
    {
      "cell_type": "markdown",
      "source": [
        "## **Días 1,2,3**\n",
        "\n",
        "Ahora, a seguir aprendiendo y repasando con esta sesión de SQL:\n",
        "https://nodd3r.com/masters/masterclass/courses/sesiones-masterclass/theory/workshop-bbdd-enero-24"
      ],
      "metadata": {
        "id": "nBPNdU7MKEgS"
      }
    },
    {
      "cell_type": "markdown",
      "source": [
        "## **Días 4,5,6 y 7**\n",
        "\n",
        "Aplica lo aprendido a este proyecto:"
      ],
      "metadata": {
        "id": "q1h2b5zmKQz0"
      }
    },
    {
      "cell_type": "markdown",
      "source": [
        "### **Proyecto:Telepizza**\n",
        "\n",
        "**Descripción:**\n",
        "\n",
        "Telepizza es una cadena de restaurantes de pizzas que opera en España.\n",
        "Están interesados en mejorar su sistema de gestión de pedidos y entregas, y para eso necesitan una base de datos que les ayude a gestionar esta información.\n",
        "\n",
        "**Datos:**\n",
        "\n",
        "La base de datos de Telepizza contiene tres tablas principales:\n",
        "- orders (pedidos),\n",
        "- runners (repartidores) y\n",
        "- pizza_types (tipos de pizza).\n",
        "\n",
        "Aquí está la estructura de cada tabla:\n",
        "\n",
        "**Tabla orders:**\n",
        "\n",
        "- order_id (int, clave primaria): Identificador único del pedido.\n",
        "- customer_id (int): Identificador único del cliente que realizó el pedido.\n",
        "- pizza_id (int): Identificador único del tipo de pizza solicitado.\n",
        "- runner_id (int): Identificador único del repartidor asignado al pedido.\n",
        "- order_time (timestamp): Fecha y hora en la que se realizó el pedido.\n",
        "- pickup_time (timestamp): Fecha y hora en la que el pedido fue recogido por el repartidor.\n",
        "- delivery_time (timestamp): Fecha y hora en la que el pedido fue entregado al cliente.\n",
        "\n",
        "**Tabla runners:**\n",
        "\n",
        "- runner_id (int, clave primaria): Identificador único del repartidor.\n",
        "- name (string): Nombre del repartidor.\n",
        "- age (int): Edad del repartidor.\n",
        "- rating (float): Calificación promedio del repartidor.\n",
        "\n",
        "**Tabla pizza_types:**\n",
        "\n",
        "- pizza_id (int, clave primaria): Identificador único del tipo de pizza.\n",
        "- pizza_name (string): Nombre del tipo de pizza.\n",
        "- toppings (string): Ingredientes o toppings que incluye la pizza.\n",
        "- price (decimal): Precio de la pizza.\n",
        "\n",
        "**Tareas:**\n",
        "\n",
        "1. Diseñar e implementar la estructura de la base de datos con las tablas orders, runners y pizza_types.\n",
        "2. Insertar datos de ejemplo en cada tabla para simular pedidos, repartidores y tipos de pizza.\n",
        "3. Realizar consultas SQL para responder las siguientes preguntas:\n",
        "- ¿Cuántas pizzas de cada tipo se han vendido a partir del día 2024-02-14?\n",
        "- ¿Cuál es el repartidor con mejor calificación promedio?\n",
        "- ¿Cuál es el tiempo promedio de entrega de pedidos?\n",
        "- ¿Cuál es el tipo de pizza más popular entre los clientes?\n",
        "\n",
        "**Entrega:**\n",
        "\n",
        "Proporciona el script SQL que incluya la creación de las tablas, la inserción de datos y las consultas realizadas para cumplir con las tareas mencionadas."
      ],
      "metadata": {
        "id": "8GO_d0eNfuog"
      }
    },
    {
      "cell_type": "code",
      "source": [
        "import sqlite3\n",
        "\n",
        "# Conectar a la base de datos o crearla si no existe\n",
        "conn = sqlite3.connect('telepizza.db')\n",
        "cursor = conn.cursor()"
      ],
      "metadata": {
        "id": "iIVoxNM_eWn8"
      },
      "execution_count": null,
      "outputs": []
    },
    {
      "cell_type": "code",
      "source": [
        "# Implementamos la estructura\n",
        "# Crear la tabla orders con la sintaxis correcta para las claves foráneas\n",
        "\n",
        "cursor.execute('''\n",
        "    CREATE TABLE IF NOT EXISTS orders (\n",
        "        order_id INTEGER PRIMARY KEY,\n",
        "        customer_id INTEGER,\n",
        "        runner_id INTEGER,\n",
        "        pizza_id INTEGER,\n",
        "        order_time TIMESTAMP,\n",
        "        picked_time TIMESTAMP,\n",
        "        delivery_time TIMESTAMP,\n",
        "        FOREIGN KEY (runner_id) REFERENCES runners(runner_id),\n",
        "        FOREIGN KEY (pizza_id) REFERENCES pizzas(pizza_id)\n",
        "    )\n",
        "''')\n",
        "\n"
      ],
      "metadata": {
        "colab": {
          "base_uri": "https://localhost:8080/"
        },
        "id": "gDI9I8-RgXUD",
        "outputId": "98f09ac2-883a-4839-e8d4-6edcd9a707dc"
      },
      "execution_count": null,
      "outputs": [
        {
          "output_type": "execute_result",
          "data": {
            "text/plain": [
              "<sqlite3.Cursor at 0x7f7cbe1f1bc0>"
            ]
          },
          "metadata": {},
          "execution_count": 60
        }
      ]
    },
    {
      "cell_type": "code",
      "source": [
        "# Crear la tabla runners con la sintaxis correcta para las claves foráneas\n",
        "cursor.execute('''\n",
        "    CREATE TABLE IF NOT EXISTS runners (\n",
        "        runner_id INTEGER PRIMARY KEY,\n",
        "        name STRING,\n",
        "        age INTEGER,\n",
        "        rating FLOAT\n",
        "            )\n",
        "''')\n"
      ],
      "metadata": {
        "colab": {
          "base_uri": "https://localhost:8080/"
        },
        "id": "g3iV-cbUejJm",
        "outputId": "aa7b1e28-d239-43f6-ef2e-d5a9af4435f4"
      },
      "execution_count": null,
      "outputs": [
        {
          "output_type": "execute_result",
          "data": {
            "text/plain": [
              "<sqlite3.Cursor at 0x7f7cbe1f0a40>"
            ]
          },
          "metadata": {},
          "execution_count": 48
        }
      ]
    },
    {
      "cell_type": "code",
      "source": [
        "# Crear la tabla pizza_types con la sintaxis correcta para las claves foráneas\n",
        "cursor.execute('''\n",
        "    CREATE TABLE IF NOT EXISTS pizza_types (\n",
        "        pizza_id INTEGER PRIMARY KEY,\n",
        "        pizza_name STRING,\n",
        "        toppins STRING,\n",
        "        price FLOAT\n",
        "          )\n",
        "\n",
        "''')"
      ],
      "metadata": {
        "colab": {
          "base_uri": "https://localhost:8080/"
        },
        "id": "hiSZXe8chCpY",
        "outputId": "6b976142-c0fc-48c1-f332-f4ba71ae2ab7"
      },
      "execution_count": null,
      "outputs": [
        {
          "output_type": "execute_result",
          "data": {
            "text/plain": [
              "<sqlite3.Cursor at 0x7f7cbe1f0a40>"
            ]
          },
          "metadata": {},
          "execution_count": 49
        }
      ]
    },
    {
      "cell_type": "code",
      "source": [
        "# Guardar los cambios y cerrar la conexión\n",
        "conn.commit()\n",
        "conn.close()"
      ],
      "metadata": {
        "id": "MNM52Q6YuGUh"
      },
      "execution_count": null,
      "outputs": []
    },
    {
      "cell_type": "code",
      "source": [
        "# Insertar valores\n",
        "# Conectar a la base de datos\n",
        "conn = sqlite3.connect('telepizza.db')\n",
        "cursor = conn.cursor()\n",
        "\n",
        "# Insertar valores de ejemplo en la tabla runners\n",
        "\n",
        "cursor.execute('''\n",
        "    INSERT INTO runners (\n",
        "      runner_id,\n",
        "      name,\n",
        "      age,\n",
        "      rating\n",
        "      )\n",
        "    VALUES\n",
        "      (00001, 'José López', 18, 10.5),\n",
        "      (00002, 'Jordi Pérez', 19, 12.5)\n",
        "''')\n",
        "\n",
        "# Insertar valores de ejemplo en la tabla pizza_types\n",
        "cursor.execute('''\n",
        "    INSERT INTO pizza_types (\n",
        "      pizza_id,\n",
        "      pizza_name,\n",
        "      toppins,\n",
        "      price\n",
        "      )\n",
        "    VALUES\n",
        "      (10001, 'Margarita', 'mozzarella, tomate', 10),\n",
        "      (10002, 'Diábola', 'mozzarella, tomate, chorizo', 12)\n",
        "''')\n",
        "\n",
        "# Insertar valores de ejemplo en la tabla orders\n",
        "cursor.execute('''\n",
        "    INSERT INTO orders (\n",
        "      order_id,\n",
        "      customer_id,\n",
        "      runner_id,\n",
        "      pizza_id,\n",
        "      order_time,\n",
        "      picked_time,\n",
        "      delivery_time\n",
        "      )\n",
        "    VALUES (1, 11111, 1, 10001, '2024-05-01 22:00:00', '2024-05-01 22:20:00', '2024-05-01 22:30:00'),\n",
        "    (2, 22222, 2, 10002, '2024-05-01 22:10:00', '2024-05-01 22:30:00', '2024-05-01 22:40:00')\n",
        "''')"
      ],
      "metadata": {
        "id": "M-AObiYNjPJL"
      },
      "execution_count": null,
      "outputs": []
    },
    {
      "cell_type": "code",
      "source": [
        "# Guardar los cambios y cerrar la conexión\n",
        "conn.commit()\n",
        "conn.close()"
      ],
      "metadata": {
        "id": "3L3DzptFu2pg"
      },
      "execution_count": null,
      "outputs": []
    },
    {
      "cell_type": "code",
      "source": [
        "# Realizar consultas SQL para responder a siguientes preguntas\n",
        "\n",
        "# Conectar a la base de datos\n",
        "conn = sqlite3.connect('telepizza.db')\n",
        "cursor = conn.cursor()"
      ],
      "metadata": {
        "id": "Q0IVp5X2oMqa"
      },
      "execution_count": null,
      "outputs": []
    },
    {
      "cell_type": "code",
      "source": [
        "# Obtener todos los registros de pizzas de cada tipo se han vendido a partir del día 2024-02-14\n",
        "cursor.execute('''\n",
        "\n",
        "SELECT\n",
        "  pizza_types.pizza_name,\n",
        "  COUNT(orders.pizza_id) AS order_count\n",
        "FROM\n",
        "  pizza_types\n",
        "INNER JOIN\n",
        "  orders ON orders.pizza_id = pizza_types.pizza_id\n",
        "WHERE\n",
        "  order_time >= '2024-02-14 00:00:00'\n",
        "GROUP BY\n",
        "  pizza_name\n",
        "'''\n",
        ")\n",
        "rows = cursor.fetchall()\n",
        "for row in rows:\n",
        "    print(row)"
      ],
      "metadata": {
        "colab": {
          "base_uri": "https://localhost:8080/"
        },
        "id": "o6Mgd2OzoO-p",
        "outputId": "b5053ca2-2526-4ce5-e94d-b38f14cb4772"
      },
      "execution_count": null,
      "outputs": [
        {
          "output_type": "stream",
          "name": "stdout",
          "text": [
            "('Diábola', 1)\n",
            "('Margarita', 1)\n"
          ]
        }
      ]
    },
    {
      "cell_type": "code",
      "source": [
        "# ¿Cuál es el repartidor con mejor calificación promedio?\n",
        "\n",
        "cursor.execute('''\n",
        "SELECT\n",
        "  name,\n",
        "  AVG (rating) AS rating\n",
        "FROM\n",
        "  runners\n",
        "GROUP BY\n",
        "  name\n",
        "ORDER BY\n",
        "  rating DESC\n",
        "LIMIT\n",
        "  1\n",
        "'''\n",
        ")\n",
        "rows = cursor.fetchall()\n",
        "for row in rows:\n",
        "    print(row)"
      ],
      "metadata": {
        "colab": {
          "base_uri": "https://localhost:8080/"
        },
        "id": "7xlu-KK5soVd",
        "outputId": "5d14acb8-b59a-472f-c8d7-4008108a2b20"
      },
      "execution_count": null,
      "outputs": [
        {
          "output_type": "stream",
          "name": "stdout",
          "text": [
            "('Jordi Pérez', 12.5)\n"
          ]
        }
      ]
    },
    {
      "cell_type": "code",
      "source": [
        "# ¿Cuál es el tiempo promedio de entrega de pedidos?\n",
        "\n",
        "cursor.execute('''\n",
        "SELECT\n",
        "    AVG(JULIANDAY(delivery_time) - JULIANDAY(order_time)) * 24 * 60 AS avg_delivery_time_minutes\n",
        "FROM\n",
        "    orders\n",
        "GROUP BY\n",
        "    order_id\n",
        "LIMIT 1;\n",
        "\n",
        "\n",
        "'''\n",
        ")\n",
        "rows = cursor.fetchall()\n",
        "for row in rows:\n",
        "    print(row)"
      ],
      "metadata": {
        "colab": {
          "base_uri": "https://localhost:8080/"
        },
        "id": "2DKjCZtEt23W",
        "outputId": "656caf8b-27bd-4bb6-91b0-9e3252b542d2"
      },
      "execution_count": null,
      "outputs": [
        {
          "output_type": "stream",
          "name": "stdout",
          "text": [
            "(30.000000223517418,)\n"
          ]
        }
      ]
    },
    {
      "cell_type": "code",
      "source": [
        "# ¿Cuál es el tipo de pizza más popular entre los clientes?\n",
        "\n",
        "cursor.execute('''\n",
        "SELECT\n",
        "    pizza_types.pizza_name, COUNT(orders.pizza_id) n_orders\n",
        "FROM\n",
        "    pizza_types\n",
        "JOIN\n",
        "    orders ON pizza_types.pizza_id = orders.pizza_id\n",
        "GROUP BY\n",
        "    order_id\n",
        "ORDER BY\n",
        "    n_orders DESC\n",
        "LIMIT 1;\n",
        "\n",
        "\n",
        "'''\n",
        ")\n",
        "rows = cursor.fetchall()\n",
        "for row in rows:\n",
        "    print(row)"
      ],
      "metadata": {
        "colab": {
          "base_uri": "https://localhost:8080/"
        },
        "id": "emnjh4dJx7L0",
        "outputId": "d08d7106-5dde-4873-ab18-26528b613add"
      },
      "execution_count": null,
      "outputs": [
        {
          "output_type": "stream",
          "name": "stdout",
          "text": [
            "('Margarita', 1)\n"
          ]
        }
      ]
    },
    {
      "cell_type": "code",
      "source": [
        "# Guardar los cambios y cerrar la conexión\n",
        "conn.commit()\n",
        "conn.close()"
      ],
      "metadata": {
        "id": "GbSFeh6wzywL"
      },
      "execution_count": null,
      "outputs": []
    },
    {
      "cell_type": "markdown",
      "source": [
        "# **Semana 3 [Extra]**\n",
        "\n",
        "Esta semana es voluntaria pero recomendable, para que sigáis practicando."
      ],
      "metadata": {
        "id": "TrRtJnJRKcgy"
      }
    },
    {
      "cell_type": "markdown",
      "source": [
        "## **Días 1,2,3**\n",
        "\n",
        "Masterclass de SQL para seguir practicando y repasando.\n",
        "\n",
        "https://nodd3r.com/masters/masterclass/courses/sesiones-masterclass/theory/workshop-sql-marzo-2024"
      ],
      "metadata": {
        "id": "otNu8lR3KpgQ"
      }
    },
    {
      "cell_type": "markdown",
      "source": [
        "## **Días 4,5,6 y 7**\n",
        "\n",
        "Aplica todo lo aprendido a este proyecto."
      ],
      "metadata": {
        "id": "jlidzxKZKv7a"
      }
    },
    {
      "cell_type": "markdown",
      "source": [
        "### **Proyecto: Nod-Foody**\n",
        "\n",
        "**Descripción:**\n",
        "\n",
        "Nod-Foody es una startup que ofrece un servicio de entrega de alimentos a través de una plataforma en línea.\n",
        "Para mejorar su eficiencia y experiencia del usuario, necesitan una base de datos que les permita gestionar los restaurantes registrados, los usuarios y los pedidos realizados en su plataforma.\n",
        "\n",
        "**Datos:**\n",
        "\n",
        "La base de datos de Nod-Foody contiene tres tablas principales:\n",
        "- restaurants (restaurantes),\n",
        "- users (usuarios)\n",
        "- orders (pedidos).\n",
        "\n",
        "Aquí está la estructura de cada tabla:\n",
        "\n",
        "**Tabla restaurants:**\n",
        "\n",
        "- restaurant_id (int, clave primaria): Identificador único del restaurante.\n",
        "- name (string): Nombre del restaurante.\n",
        "- location (string): Ubicación del restaurante.\n",
        "- cuisine (string): Tipo de cocina ofrecida por el restaurante (por ejemplo, italiana, mexicana, asiática).\n",
        "\n",
        "**Tabla users:**\n",
        "\n",
        "- user_id (int, clave primaria): Identificador único del usuario.\n",
        "- name (string): Nombre del usuario.\n",
        "- email (string): Dirección de correo electrónico del usuario.\n",
        "- address (string): Dirección de entrega del usuario.\n",
        "\n",
        "**Tabla orders:**\n",
        "\n",
        "- order_id (int, clave primaria): Identificador único del pedido.\n",
        "- user_id (int): Identificador único del usuario que realizó el pedido.\n",
        "- restaurant_id (int): Identificador único del restaurante del cual se realizó el pedido.\n",
        "- order_time (timestamp): Fecha y hora en la que se realizó el pedido.\n",
        "- delivery_time (timestamp): Fecha y hora en la que se entregó el pedido al usuario.\n",
        "- total_amount (decimal): Monto total del pedido.\n",
        "\n",
        "**Tareas:**\n",
        "\n",
        "1. Diseñar e implementar la estructura de la base de datos con las tablas restaurants, users y orders.\n",
        "2. Insertar datos de ejemplo en cada tabla para simular restaurantes registrados, usuarios y pedidos realizados.\n",
        "3. Realizar consultas SQL para responder las siguientes preguntas:\n",
        "- ¿Cuántos pedidos se han realizado en cada restaurante durante el último mes?\n",
        "- ¿Cuál es el usuario que ha realizado más pedidos?\n",
        "- ¿Cuál es el restaurante más popular entre los usuarios?\n",
        "- ¿Cuál es el monto total de ventas realizadas en la plataforma durante el último año?\n",
        "\n",
        "**Entrega:**\n",
        "Proporciona el script SQL que incluya la creación de las tablas, la inserción de datos y las consultas realizadas para cumplir con las tareas mencionadas."
      ],
      "metadata": {
        "id": "LTKSuowXf9bI"
      }
    },
    {
      "cell_type": "code",
      "source": [
        "import sqlite3\n",
        "\n",
        "# Conectar a la base de datos o crearla si no existe\n",
        "conn = sqlite3.connect('notfoody.db')\n",
        "cursor = conn.cursor()"
      ],
      "metadata": {
        "id": "K8D0ApbbG5wC"
      },
      "execution_count": null,
      "outputs": []
    },
    {
      "cell_type": "code",
      "source": [
        "# Implementamos la estructura\n",
        "# Creamos la tabla restaurants con la sintaxis correcta para las claves foráneas\n",
        "\n",
        "cursor.execute('''\n",
        "    CREATE TABLE IF NOT EXISTS restaurants (\n",
        "    restaurant_id INTEGER PRIMARY KEY,\n",
        "    name TEXT NOT NULL,\n",
        "    location TEXT,\n",
        "    cuisine TEXT\n",
        "    )\n",
        "''');\n"
      ],
      "metadata": {
        "id": "LeaUU-J6HA_w"
      },
      "execution_count": null,
      "outputs": []
    },
    {
      "cell_type": "code",
      "source": [
        "# Creamos la tabla users con la sintaxis correcta para las claves foráneas\n",
        "\n",
        "cursor.execute('''\n",
        "    CREATE TABLE IF NOT EXISTS users (\n",
        "    user_id INTEGER PRIMARY KEY,\n",
        "    name TEXT NOT NULL,\n",
        "    email TEXT NOT NULL,\n",
        "    address TEXT\n",
        ")\n",
        "''');"
      ],
      "metadata": {
        "id": "34gXQesgHkYU"
      },
      "execution_count": null,
      "outputs": []
    },
    {
      "cell_type": "code",
      "source": [
        "# Creamos la tabla orders con la sintaxis correcta para las claves foráneas\n",
        "\n",
        "cursor.execute('''\n",
        "    CREATE TABLE IF NOT EXISTS orders (\n",
        "    order_id INTEGER PRIMARY KEY,\n",
        "    user_id INTEGER,\n",
        "    restaurant_id INTEGER,\n",
        "    order_time TIMESTAMP,\n",
        "    delivery_time TIMESTAMP,\n",
        "    total_amount DECIMAL,\n",
        "    FOREIGN KEY (user_id) REFERENCES users(user_id),\n",
        "    FOREIGN KEY (restaurant_id) REFERENCES restaurants(restaurant_id)\n",
        ")\n",
        "''');"
      ],
      "metadata": {
        "id": "tOsiXrC_H3PB"
      },
      "execution_count": null,
      "outputs": []
    },
    {
      "cell_type": "code",
      "source": [
        "# Guardar los cambios y cerrar la conexión\n",
        "conn.commit()\n",
        "conn.close()"
      ],
      "metadata": {
        "id": "Bk1UvrdfJXIO"
      },
      "execution_count": null,
      "outputs": []
    },
    {
      "cell_type": "code",
      "source": [
        "# Insertar valores\n",
        "# Conectar a la base de datos\n",
        "conn = sqlite3.connect('notfoody.db')\n",
        "cursor = conn.cursor()\n"
      ],
      "metadata": {
        "id": "A-BJV4T4k5kM"
      },
      "execution_count": null,
      "outputs": []
    },
    {
      "cell_type": "code",
      "source": [
        "\n",
        "# Insertar valores de ejemplo en la tabla restaurants\n",
        "\n",
        "cursor.execute('''\n",
        "    INSERT INTO restaurants (restaurant_id, name, location, cuisine) VALUES\n",
        "(1, 'Pasta Palace', 'New York, NY', 'Italian'),\n",
        "(2, 'Sushi Central', 'San Francisco, CA', 'Japanese'),\n",
        "(3, 'Taco Town', 'Austin, TX', 'Mexican'),\n",
        "(4, 'Burger Haven', 'Los Angeles, CA', 'American'),\n",
        "(5, 'Curry Corner', 'Chicago, IL', 'Indian'),\n",
        "(6, 'Pizza Place', 'Miami, FL', 'Italian'),\n",
        "(7, 'Dim Sum Delight', 'Seattle, WA', 'Chinese'),\n",
        "(8, 'BBQ Barn', 'Houston, TX', 'American'),\n",
        "(9, 'Vegan Village', 'Portland, OR', 'Vegan'),\n",
        "(10, 'Pasta Paradise', 'Boston, MA', 'Italian');\n",
        "\n",
        "''')\n",
        "\n",
        "# Insertar valores de ejemplo en la tabla users\n",
        "\n",
        "cursor.execute('''\n",
        "    INSERT INTO users (user_id, name, email, address) VALUES\n",
        "(1, 'Alice Smith', 'alice@example.com', '123 Main St, New York, NY'),\n",
        "(2, 'Bob Johnson', 'bob@example.com', '456 Elm St, San Francisco, CA'),\n",
        "(3, 'Carol White', 'carol@example.com', '789 Oak St, Austin, TX'),\n",
        "(4, 'David Brown', 'david@example.com', '101 Pine St, Los Angeles, CA'),\n",
        "(5, 'Eve Davis', 'eve@example.com', '202 Maple St, Chicago, IL'),\n",
        "(6, 'Frank Harris', 'frank@example.com', '303 Cedar St, Miami, FL'),\n",
        "(7, 'Grace Lewis', 'grace@example.com', '404 Birch St, Seattle, WA'),\n",
        "(8, 'Hank Walker', 'hank@example.com', '505 Walnut St, Houston, TX'),\n",
        "(9, 'Ivy Hall', 'ivy@example.com', '606 Cherry St, Portland, OR'),\n",
        "(10, 'Jack King', 'jack@example.com', '707 Chestnut St, Boston, MA');\n",
        "''')\n",
        "\n",
        "# Insertar valores de ejemplo en la tabla orders\n",
        "\n",
        "cursor.execute('''\n",
        "    INSERT INTO orders (order_id, user_id, restaurant_id, order_time, delivery_time, total_amount) VALUES\n",
        "(1, 1, 1, '2023-06-01 12:00:00', '2023-06-01 12:30:00', 25.50),\n",
        "(2, 2, 2, '2023-06-02 13:00:00', '2023-06-02 13:45:00', 40.75),\n",
        "(3, 3, 3, '2023-06-03 18:00:00', '2023-06-03 18:35:00', 15.00),\n",
        "(4, 4, 4, '2023-06-04 19:00:00', '2023-06-04 19:25:00', 30.20),\n",
        "(5, 5, 5, '2023-06-05 11:00:00', '2023-06-05 11:40:00', 22.00),\n",
        "(6, 6, 6, '2023-06-06 12:30:00', '2023-06-06 13:00:00', 18.75),\n",
        "(7, 7, 7, '2023-06-07 17:45:00', '2023-06-07 18:15:00', 27.50),\n",
        "(8, 8, 8, '2023-06-08 20:00:00', '2023-06-08 20:45:00', 35.00),\n",
        "(9, 9, 9, '2023-06-09 14:00:00', '2023-06-09 14:30:00', 20.00),\n",
        "(10, 10, 10, '2023-06-10 15:00:00', '2023-06-10 15:25:00', 25.00),\n",
        "(11, 1, 2, '2023-06-11 12:00:00', '2023-06-11 12:40:00', 32.60),\n",
        "(12, 2, 3, '2023-06-12 13:15:00', '2023-06-12 13:45:00', 28.75),\n",
        "(13, 3, 4, '2023-06-13 18:20:00', '2023-06-13 19:00:00', 19.50),\n",
        "(14, 4, 5, '2023-06-14 19:05:00', '2023-06-14 19:45:00', 33.90),\n",
        "(15, 5, 6, '2023-06-15 11:30:00', '2023-06-15 12:10:00', 21.25),\n",
        "(16, 6, 7, '2023-06-16 12:50:00', '2023-06-16 13:30:00', 17.95),\n",
        "(17, 7, 8, '2023-06-17 17:55:00', '2023-06-17 18:35:00', 26.10),\n",
        "(18, 8, 9, '2023-06-18 20:10:00', '2023-06-18 20:50:00', 31.00),\n",
        "(19, 9, 10, '2023-06-19 14:20:00', '2023-06-19 14:55:00', 23.45),\n",
        "(20, 10, 1, '2023-06-20 15:30:00', '2023-06-20 16:00:00', 27.80),\n",
        "(21, 1, 1, '2023-06-02 12:30:00', '2023-06-02 12:50:00', 35.50);\n",
        "\n",
        "''')"
      ],
      "metadata": {
        "colab": {
          "base_uri": "https://localhost:8080/"
        },
        "id": "jjRMiYGkJYOW",
        "outputId": "63e056ed-2a95-4105-a429-083f85f86427"
      },
      "execution_count": null,
      "outputs": [
        {
          "output_type": "execute_result",
          "data": {
            "text/plain": [
              "<sqlite3.Cursor at 0x7890781b96c0>"
            ]
          },
          "metadata": {},
          "execution_count": 69
        }
      ]
    },
    {
      "cell_type": "code",
      "source": [
        "# Guardar los cambios y cerrar la conexión\n",
        "conn.commit()\n",
        "conn.close()"
      ],
      "metadata": {
        "id": "Oq9qeMZyKQ7q"
      },
      "execution_count": null,
      "outputs": []
    },
    {
      "cell_type": "code",
      "source": [
        "# Realizar consultas SQL para responder a siguientes preguntas\n",
        "\n",
        "# Conectar a la base de datos\n",
        "conn = sqlite3.connect('notfoody.db')\n",
        "cursor = conn.cursor()"
      ],
      "metadata": {
        "id": "P7VW8ZReLGWp"
      },
      "execution_count": null,
      "outputs": []
    },
    {
      "cell_type": "code",
      "source": [
        "# ¿Cuántos pedidos se han realizado en cada restaurante durante el último mes?\n",
        "\n",
        "cursor.execute('''\n",
        "SELECT\n",
        "  restaurants.name,\n",
        "  COUNT(orders.order_id) AS order_count\n",
        "FROM\n",
        "  restaurants\n",
        "INNER JOIN\n",
        "  orders ON restaurants.restaurant_id = orders.restaurant_id\n",
        "WHERE\n",
        "  orders.order_time BETWEEN DATE('now', 'start of month', '-1 month') AND DATE('now', 'start of month')\n",
        "GROUP BY\n",
        "  restaurants.restaurant_id\n",
        "''')\n",
        "\n",
        "rows = cursor.fetchall()\n",
        "for row in rows:\n",
        "    print(row)\n"
      ],
      "metadata": {
        "id": "FPPYkmWQKl5t"
      },
      "execution_count": null,
      "outputs": []
    },
    {
      "cell_type": "code",
      "source": [
        "# ¿Cuál es el usuario que ha realizado más pedidos?\n",
        "\n",
        "cursor.execute('''\n",
        "\n",
        "SELECT\n",
        "  users.name, COUNT(orders.order_id)\n",
        "FROM\n",
        "  users\n",
        "INNER JOIN\n",
        "  orders ON users.user_id = orders.user_id\n",
        "GROUP BY\n",
        "  users.name\n",
        "LIMIT 1\n",
        "''')\n",
        "\n",
        "rows = cursor.fetchall()\n",
        "for row in rows:\n",
        "    print(row)\n"
      ],
      "metadata": {
        "colab": {
          "base_uri": "https://localhost:8080/"
        },
        "id": "MFg1PMCzcSww",
        "outputId": "0420d433-cd7f-42f3-a48c-ab7725750a72"
      },
      "execution_count": null,
      "outputs": [
        {
          "output_type": "stream",
          "name": "stdout",
          "text": [
            "('Alice Smith', 3)\n"
          ]
        }
      ]
    },
    {
      "cell_type": "code",
      "source": [
        "# ¿Cuál es el restaurante más popular entre los usuarios?\n",
        "\n",
        "cursor.execute('''\n",
        "\n",
        "SELECT\n",
        "  restaurants.name,\n",
        "  COUNT(orders.order_id) AS order_count\n",
        "FROM\n",
        "  restaurants\n",
        "INNER JOIN\n",
        "  orders ON restaurants.restaurant_id = orders.restaurant_id\n",
        "GROUP BY 1\n",
        "ORDER BY order_count DESC\n",
        "LIMIT 1\n",
        "\n",
        "''')\n",
        "\n",
        "rows = cursor.fetchall()\n",
        "for row in rows:\n",
        "    print(row)\n"
      ],
      "metadata": {
        "colab": {
          "base_uri": "https://localhost:8080/"
        },
        "id": "nUFLIe0_fiIX",
        "outputId": "b6389f4f-b34a-4d47-a5d3-083b77fbfc1b"
      },
      "execution_count": null,
      "outputs": [
        {
          "output_type": "stream",
          "name": "stdout",
          "text": [
            "('Pasta Palace', 3)\n"
          ]
        }
      ]
    },
    {
      "cell_type": "code",
      "source": [
        "# ¿Cuál es el monto total de ventas realizadas en la plataforma durante el último año?\n",
        "\n",
        "cursor.execute('''\n",
        "\n",
        "SELECT\n",
        "  SUM(total_amount) AS total_sales\n",
        "FROM\n",
        "  orders\n",
        "WHERE\n",
        "  order_time BETWEEN DATE('now', '-1 year') AND DATE('now')\n",
        "\n",
        "''')\n",
        "\n",
        "rows = cursor.fetchall()\n",
        "for row in rows:\n",
        "    print(row)"
      ],
      "metadata": {
        "colab": {
          "base_uri": "https://localhost:8080/"
        },
        "id": "LdOTMjGpiTHJ",
        "outputId": "9ab392a5-267d-4a0b-c525-87b7ca22b61f"
      },
      "execution_count": null,
      "outputs": [
        {
          "output_type": "stream",
          "name": "stdout",
          "text": [
            "(307.29999999999995,)\n"
          ]
        }
      ]
    }
  ]
}